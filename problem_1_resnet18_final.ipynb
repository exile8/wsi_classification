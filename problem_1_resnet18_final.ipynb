{
  "cells": [
    {
      "cell_type": "markdown",
      "metadata": {
        "id": "atqZGIIyNSBb"
      },
      "source": [
        "#**Практическое задание №1**"
      ]
    },
    {
      "cell_type": "markdown",
      "metadata": {
        "id": "ga5g3lUhNNBy"
      },
      "source": [
        "Установка необходимых пакетов:"
      ]
    },
    {
      "cell_type": "code",
      "execution_count": 1,
      "metadata": {
        "id": "TGBk36LpukIu",
        "colab": {
          "base_uri": "https://localhost:8080/",
          "height": 0
        },
        "outputId": "e22f499c-5933-4365-f097-4b3dd5012da3"
      },
      "outputs": [
        {
          "output_type": "stream",
          "name": "stdout",
          "text": [
            "Requirement already satisfied: gdown in /usr/local/lib/python3.10/dist-packages (5.2.0)\n",
            "Requirement already satisfied: beautifulsoup4 in /usr/local/lib/python3.10/dist-packages (from gdown) (4.12.3)\n",
            "Requirement already satisfied: filelock in /usr/local/lib/python3.10/dist-packages (from gdown) (3.16.1)\n",
            "Requirement already satisfied: requests[socks] in /usr/local/lib/python3.10/dist-packages (from gdown) (2.32.3)\n",
            "Requirement already satisfied: tqdm in /usr/local/lib/python3.10/dist-packages (from gdown) (4.66.6)\n",
            "Requirement already satisfied: soupsieve>1.2 in /usr/local/lib/python3.10/dist-packages (from beautifulsoup4->gdown) (2.6)\n",
            "Requirement already satisfied: charset-normalizer<4,>=2 in /usr/local/lib/python3.10/dist-packages (from requests[socks]->gdown) (3.4.0)\n",
            "Requirement already satisfied: idna<4,>=2.5 in /usr/local/lib/python3.10/dist-packages (from requests[socks]->gdown) (3.10)\n",
            "Requirement already satisfied: urllib3<3,>=1.21.1 in /usr/local/lib/python3.10/dist-packages (from requests[socks]->gdown) (2.2.3)\n",
            "Requirement already satisfied: certifi>=2017.4.17 in /usr/local/lib/python3.10/dist-packages (from requests[socks]->gdown) (2024.8.30)\n",
            "Requirement already satisfied: PySocks!=1.5.7,>=1.5.6 in /usr/local/lib/python3.10/dist-packages (from requests[socks]->gdown) (1.7.1)\n"
          ]
        }
      ],
      "source": [
        "!pip install -q tqdm\n",
        "!pip install --upgrade --no-cache-dir gdown"
      ]
    },
    {
      "cell_type": "markdown",
      "metadata": {
        "id": "2vQDLyHEO1Ux"
      },
      "source": [
        "Монтирование Вашего Google Drive к текущему окружению:"
      ]
    },
    {
      "cell_type": "code",
      "execution_count": 2,
      "metadata": {
        "id": "5G5KkA1Nu5M9",
        "colab": {
          "base_uri": "https://localhost:8080/",
          "height": 0
        },
        "outputId": "285ad57e-75e0-4b5a-e1c7-032812624cf3"
      },
      "outputs": [
        {
          "output_type": "stream",
          "name": "stdout",
          "text": [
            "Mounted at /content/drive\n"
          ]
        }
      ],
      "source": [
        "from google.colab import drive\n",
        "drive.mount('/content/drive', force_remount=True)"
      ]
    },
    {
      "cell_type": "markdown",
      "metadata": {
        "id": "0Num5lHV6912"
      },
      "source": [
        "Константы, которые пригодятся в коде далее, и ссылки (gdrive идентификаторы) на предоставляемые наборы данных:"
      ]
    },
    {
      "cell_type": "code",
      "execution_count": 3,
      "metadata": {
        "id": "ab2yCwDm7Fqb"
      },
      "outputs": [],
      "source": [
        "EVALUATE_ONLY = True\n",
        "TEST_ON_LARGE_DATASET = True\n",
        "TISSUE_CLASSES = ('ADI', 'BACK', 'DEB', 'LYM', 'MUC', 'MUS', 'NORM', 'STR', 'TUM')\n",
        "DATASETS_LINKS = {\n",
        "    'train': '1XtQzVQ5XbrfxpLHJuL0XBGJ5U7CS-cLi',\n",
        "    'train_small': '1qd45xXfDwdZjktLFwQb-et-mAaFeCzOR',\n",
        "    'train_tiny': '1I-2ZOuXLd4QwhZQQltp817Kn3J0Xgbui',\n",
        "    'test': '1RfPou3pFKpuHDJZ-D9XDFzgvwpUBFlDr',\n",
        "    'test_small': '1wbRsog0n7uGlHIPGLhyN-PMeT2kdQ2lI',\n",
        "    'test_tiny': '1viiB0s041CNsAK4itvX8PnYthJ-MDnQc'\n",
        "}"
      ]
    },
    {
      "cell_type": "markdown",
      "metadata": {
        "id": "fgY-ux5qOI0k"
      },
      "source": [
        "Импорт необходимых зависимостей:"
      ]
    },
    {
      "cell_type": "code",
      "execution_count": 4,
      "metadata": {
        "id": "kLHQhqiSIyvK"
      },
      "outputs": [],
      "source": [
        "from pathlib import Path\n",
        "import os\n",
        "import numpy as np\n",
        "from typing import List\n",
        "from tqdm.notebook import tqdm\n",
        "from time import sleep\n",
        "from PIL import Image\n",
        "import IPython.display\n",
        "from sklearn.metrics import balanced_accuracy_score, precision_score, recall_score, classification_report, confusion_matrix, ConfusionMatrixDisplay\n",
        "from sklearn.model_selection import train_test_split\n",
        "import matplotlib.pyplot as plt\n",
        "import gdown\n",
        "import torch\n",
        "import torch.nn as nn\n",
        "import torchvision.transforms as T\n",
        "from torch.utils.data import DataLoader, Subset\n",
        "from torch.utils.data import Dataset as TorchDataset\n",
        "from torchvision.models import resnet18, ResNet18_Weights"
      ]
    },
    {
      "cell_type": "markdown",
      "metadata": {
        "id": "zKLI3lUyMYO9"
      },
      "source": [
        "---\n",
        "### Класс Dataset\n",
        "\n",
        "Предназначен для работы с наборами данных, обеспечивает чтение изображений и соответствующих меток, а также формирование пакетов (батчей)."
      ]
    },
    {
      "cell_type": "code",
      "execution_count": 38,
      "metadata": {
        "id": "8N169efsw1ej"
      },
      "outputs": [],
      "source": [
        "class Dataset:\n",
        "\n",
        "    def __init__(self, name):\n",
        "        self.name = name\n",
        "        self.is_loaded = False\n",
        "        url = f\"https://drive.google.com/uc?export=download&confirm=pbef&id={DATASETS_LINKS[name]}\"\n",
        "        output = f'{name}.npz'\n",
        "        gdown.download(url, output, quiet=False)\n",
        "        print(f'Loading dataset {self.name} from npz.')\n",
        "        np_obj = np.load(f'{name}.npz')\n",
        "        #np_obj = np.load(f'/content/drive/MyDrive/{name}.npz')\n",
        "        self.images = np_obj['data']\n",
        "        self.labels = np_obj['labels']\n",
        "        self.n_files = self.images.shape[0]\n",
        "        self.is_loaded = True\n",
        "        print(f'Done. Dataset {name} consists of {self.n_files} images.')\n",
        "\n",
        "    def image(self, i):\n",
        "        # read i-th image in dataset and return it as numpy array\n",
        "        if self.is_loaded:\n",
        "            return self.images[i, :, :, :]\n",
        "\n",
        "    def images_seq(self, n=None):\n",
        "        # sequential access to images inside dataset (is needed for testing)\n",
        "        for i in range(self.n_files if not n else n):\n",
        "            yield self.image(i)\n",
        "\n",
        "    def random_image_with_label(self):\n",
        "        # get random image with label from dataset\n",
        "        i = np.random.randint(self.n_files)\n",
        "        return self.image(i), self.labels[i]\n",
        "\n",
        "    def random_batch_with_labels(self, n):\n",
        "        # create random batch of images with labels (is needed for training)\n",
        "        indices = np.random.choice(self.n_files, n)\n",
        "        imgs = []\n",
        "        for i in indices:\n",
        "            img = self.image(i)\n",
        "            imgs.append(self.image(i))\n",
        "        logits = np.array([self.labels[i] for i in indices])\n",
        "        return np.stack(imgs), logits\n",
        "\n",
        "    def image_with_label(self, i: int):\n",
        "        # return i-th image with label from dataset\n",
        "        return self.image(i), self.labels[i]"
      ]
    },
    {
      "cell_type": "markdown",
      "source": [
        "Далее к входным изображениям будет применяться нормализация. Для этого посчитаем mean и std для датасета train_tiny."
      ],
      "metadata": {
        "id": "JSn-fOAv03QL"
      }
    },
    {
      "cell_type": "code",
      "source": [
        "d_train_tiny = Dataset('train_tiny')"
      ],
      "metadata": {
        "colab": {
          "base_uri": "https://localhost:8080/",
          "height": 0
        },
        "id": "mnVEJam61IEK",
        "outputId": "12231410-0d75-44f4-97d0-b7ca66c7ffd2"
      },
      "execution_count": 37,
      "outputs": [
        {
          "output_type": "stream",
          "name": "stdout",
          "text": [
            "Done. Dataset train_tiny consists of 900 images.\n"
          ]
        }
      ]
    },
    {
      "cell_type": "code",
      "source": [
        "data_mean = []\n",
        "data_std = []\n",
        "\n",
        "for i in range(3):\n",
        "  data_mean.append((d_train_tiny.images[:, :, :, i] / 255).mean())\n",
        "  data_std.append((d_train_tiny.images[:, :, :, i] / 255).std())"
      ],
      "metadata": {
        "id": "mvKOg1T03DwW"
      },
      "execution_count": 7,
      "outputs": []
    },
    {
      "cell_type": "code",
      "source": [
        "data_mean"
      ],
      "metadata": {
        "colab": {
          "base_uri": "https://localhost:8080/",
          "height": 0
        },
        "id": "H_jAbeek3VdQ",
        "outputId": "f944cd7a-9c7f-4e93-a874-7a4e16b08d4a"
      },
      "execution_count": 8,
      "outputs": [
        {
          "output_type": "execute_result",
          "data": {
            "text/plain": [
              "[0.7367300652900038, 0.5323509547047984, 0.7040720624187169]"
            ]
          },
          "metadata": {},
          "execution_count": 8
        }
      ]
    },
    {
      "cell_type": "code",
      "source": [
        "data_std"
      ],
      "metadata": {
        "colab": {
          "base_uri": "https://localhost:8080/",
          "height": 0
        },
        "id": "xcFV7nuY3mbF",
        "outputId": "41a05815-f15f-4ec0-964f-5674effa5e15"
      },
      "execution_count": 9,
      "outputs": [
        {
          "output_type": "execute_result",
          "data": {
            "text/plain": [
              "[0.16750335779032113, 0.21946880199380595, 0.1591425282747252]"
            ]
          },
          "metadata": {},
          "execution_count": 9
        }
      ]
    },
    {
      "cell_type": "markdown",
      "metadata": {
        "id": "qaBXXCWeVLYb"
      },
      "source": [
        "---\n",
        "### Класс Metrics\n",
        "\n",
        "Реализует метрики точности, используемые для оценивания модели:\n",
        "1. точность,\n",
        "2. сбалансированную точность."
      ]
    },
    {
      "cell_type": "code",
      "execution_count": 10,
      "metadata": {
        "id": "5unQ7azTinCZ"
      },
      "outputs": [],
      "source": [
        "class Metrics:\n",
        "\n",
        "    @staticmethod\n",
        "    def accuracy(gt: List[int], pred: List[int]):\n",
        "        assert len(gt) == len(pred), 'gt and prediction should be of equal length'\n",
        "        return sum(int(i[0] == i[1]) for i in zip(gt, pred)) / len(gt)\n",
        "\n",
        "    @staticmethod\n",
        "    def accuracy_balanced(gt: List[int], pred: List[int]):\n",
        "        return balanced_accuracy_score(gt, pred)\n",
        "\n",
        "    @staticmethod\n",
        "    def print_all(gt: List[int], pred: List[int], info: str):\n",
        "        print(f'metrics for {info}:')\n",
        "        print('\\t accuracy {:.4f}:'.format(Metrics.accuracy(gt, pred)))\n",
        "        print('\\t balanced accuracy {:.4f}:'.format(Metrics.accuracy_balanced(gt, pred)))"
      ]
    },
    {
      "cell_type": "markdown",
      "metadata": {
        "id": "N1AHzTJVGU5k"
      },
      "source": [
        "---\n",
        "### Класс Model\n",
        "\n",
        "Модель: resnet18, предобученная на imagenet."
      ]
    },
    {
      "cell_type": "code",
      "execution_count": 11,
      "metadata": {
        "id": "0pkMiB6mJ7JQ"
      },
      "outputs": [],
      "source": [
        "class Model:\n",
        "\n",
        "    def __init__(self):\n",
        "        # wrapper for dataset class\n",
        "        class DatasetWrapper(TorchDataset):\n",
        "            def __init__(self, dataset, transform=None):\n",
        "\n",
        "                self.dataset = dataset\n",
        "                self.transform = transform\n",
        "                self.length = self.dataset.n_files\n",
        "\n",
        "            def __len__(self):\n",
        "                return self.length\n",
        "\n",
        "            def __getitem__(self, idx):\n",
        "                image, label = self.dataset.image_with_label(idx)\n",
        "                label = torch.tensor(label, dtype=torch.long)\n",
        "\n",
        "                if self.transform is not None:\n",
        "                    image = self.transform(image)\n",
        "                else:\n",
        "                    image = torch.from_numpy(image).permute(2, 0, 1)\n",
        "\n",
        "                return image, label\n",
        "\n",
        "        self.dataset_wrapper = DatasetWrapper\n",
        "\n",
        "\n",
        "        # LBL1\n",
        "        # transforms\n",
        "        # Вращения и увеличения отражают вариативность, которая может присутвовать в данных wsi\n",
        "        self.train_transform =T.Compose([\n",
        "            T.ToPILImage(),\n",
        "            T.RandomRotation(degrees=15),\n",
        "            T.RandomResizedCrop(size=224, scale=(0.8, 1.0)),\n",
        "            T.RandomApply([T.ColorJitter(brightness=0.2, contrast=0.2, saturation=0.2, hue=0.1)], p=0.3),\n",
        "            T.RandomApply([T.GaussianBlur(kernel_size=(5, 5), sigma=(0.1, 2.0))], p=0.3),\n",
        "            T.ToTensor(),\n",
        "            T.Normalize(mean=data_mean, std=data_std)\n",
        "        ])\n",
        "\n",
        "        self.test_transform = T.Compose([\n",
        "            T.ToPILImage(),\n",
        "            T.ToTensor(),\n",
        "            T.Normalize(mean=data_mean, std=data_std)\n",
        "        ])\n",
        "\n",
        "        self.device = 'cuda' if torch.cuda.is_available() else 'cpu'\n",
        "\n",
        "        # model\n",
        "        self.model = resnet18(weights=ResNet18_Weights.IMAGENET1K_V1)\n",
        "\n",
        "        in_features = self.model.fc.in_features\n",
        "        self.model.fc = nn.Linear(in_features=in_features, out_features=9, bias=False)\n",
        "\n",
        "        self.model.to(self.device)\n",
        "\n",
        "    def save(self, name: str):\n",
        "        torch.save(self.model.state_dict(), f'/content/drive/MyDrive/{name}.pt')\n",
        "\n",
        "    def load(self, name: str, checkpoint=False):\n",
        "        name_to_id_dict = {\n",
        "            'best': '12BE_ADyZesmnegFoAUMerMX2iVRTuxZQ'\n",
        "        }\n",
        "        output = f'{name}.pt'\n",
        "        gdown.download(f'https://drive.google.com/uc?id={name_to_id_dict[name]}', output, quiet=False)\n",
        "        self.model.load_state_dict(torch.load(f'{name}.pt'))\n",
        "\n",
        "\n",
        "    # LBL8\n",
        "    def load_iteration(self, name, epoch):\n",
        "        checkpt_name = f'{name}_{epoch}'\n",
        "        name_to_id_dict = {\n",
        "            'resnet18_0': '1216h0FcpftiFGvk4ahtvt4ZDmbSsrTjt',\n",
        "            'resnet18_1': '122uVJ1Az6Zf9wsLMgCC_eywnRFqwpGYF',\n",
        "            'resnet18_2': '123Q_VX8dNKwvp1y_1B8j9WFunezQOW-_',\n",
        "            'resnet18_3': '124JdefOavNvTwg12emIqLLYwWja6XCot',\n",
        "            'resnet18_4': '12A0D1hp_VgkrPiuA-ZaEvO38UJOkQcwv'\n",
        "        }\n",
        "        output = f'{name}.pt'\n",
        "        gdown.download(f'https://drive.google.com/uc?id={name_to_id_dict[checkpt_name]}', output, quiet=False)\n",
        "        checkpt = torch.load(f'{name}.pt')\n",
        "        self.model.load_state_dict(checkpt['model_state_dict'])\n",
        "        print(f'Loaded model from epoch {checkpt[\"epoch\"]}, val_acc={checkpt[\"acc\"] * 100:.2f}%')\n",
        "\n",
        "\n",
        "    def prepare_dataset(self, dataset, subset='test'):\n",
        "        if subset == 'test':\n",
        "          return self.dataset_wrapper(dataset, self.test_transform)\n",
        "        elif subset == 'train':\n",
        "          return self.dataset_wrapper(dataset, self.train_transform)\n",
        "\n",
        "\n",
        "    def train_val_split(self, dataset):\n",
        "        labels = [label for _, label in dataset]\n",
        "\n",
        "        train_indices, val_indices = train_test_split(\n",
        "            np.arange(len(dataset)),\n",
        "            test_size=0.2,\n",
        "            stratify=labels,\n",
        "            random_state=42\n",
        "        )\n",
        "\n",
        "        train_subset = Subset(dataset, train_indices)\n",
        "        val_subset = Subset(dataset, val_indices)\n",
        "\n",
        "        val_subset.dataset.transform = self.test_transform\n",
        "\n",
        "        return train_subset, val_subset\n",
        "\n",
        "\n",
        "    def train_step(self, train_loader, optimizer, loss_fn):\n",
        "        self.model.train()\n",
        "        running_loss = 0\n",
        "        gt = []\n",
        "        pred = []\n",
        "\n",
        "        for X, y_true in train_loader:\n",
        "            optimizer.zero_grad()\n",
        "            X = X.to(self.device)\n",
        "            y_true = y_true.to(self.device)\n",
        "\n",
        "            y_hat = self.model(X)\n",
        "\n",
        "            loss = loss_fn(y_hat, y_true)\n",
        "\n",
        "            pred_labels = torch.argmax(y_hat, 1)\n",
        "            gt.append(y_true.detach().cpu())\n",
        "            pred.append(pred_labels.detach().cpu())\n",
        "\n",
        "            running_loss += loss.item() * X.size(0)\n",
        "\n",
        "            loss.backward()\n",
        "            optimizer.step()\n",
        "\n",
        "        gt = torch.cat(gt)\n",
        "        pred = torch.cat(pred)\n",
        "        epoch_loss = running_loss / len(train_loader.dataset)\n",
        "        epoch_accuracy = Metrics.accuracy(gt, pred)\n",
        "\n",
        "        return optimizer, epoch_loss, epoch_accuracy\n",
        "\n",
        "\n",
        "    def valid_step(self, valid_loader, loss_fn):\n",
        "        self.model.eval()\n",
        "        running_loss = 0\n",
        "        gt = []\n",
        "        pred = []\n",
        "\n",
        "        for X, y_true in valid_loader:\n",
        "            X = X.to(self.device)\n",
        "            y_true = y_true.to(self.device)\n",
        "\n",
        "            y_hat = self.model(X)\n",
        "\n",
        "            loss = loss_fn(y_hat, y_true)\n",
        "\n",
        "            pred_labels = torch.argmax(y_hat, 1)\n",
        "            gt.append(y_true.detach().cpu())\n",
        "            pred.append(pred_labels.detach().cpu())\n",
        "\n",
        "            running_loss += loss.item() * X.size(0)\n",
        "\n",
        "        gt = torch.cat(gt)\n",
        "        pred = torch.cat(pred)\n",
        "        epoch_loss = running_loss / len(valid_loader.dataset)\n",
        "        epoch_accuracy = Metrics.accuracy(gt, pred)\n",
        "\n",
        "        return epoch_loss, epoch_accuracy\n",
        "\n",
        "    def train(\n",
        "        self, dataset: Dataset, batch_size,\n",
        "        n_epochs, Loss_fn, Optimizer, opt_params,\n",
        "        checkpoint_name, return_plot=False, restart_epoch=None, restart_name=None\n",
        "    ):\n",
        "        checkpoint_dir = f'/content/drive/MyDrive/{checkpoint_name}'\n",
        "\n",
        "        train_full_dataset = self.prepare_dataset(dataset, subset='train')\n",
        "        # LBL2\n",
        "        train_data, valid_data = self.train_val_split(train_full_dataset)\n",
        "\n",
        "        train_loader = DataLoader(train_data, batch_size=batch_size, shuffle=True)\n",
        "        valid_loader = DataLoader(valid_data, batch_size=batch_size, shuffle=False)\n",
        "\n",
        "        train_losses = []\n",
        "        valid_losses = []\n",
        "\n",
        "        train_accuracies = []\n",
        "        valid_accuracies = []\n",
        "\n",
        "        loss_fn = Loss_fn()\n",
        "        optimizer = Optimizer(self.model.parameters(), **opt_params)\n",
        "\n",
        "        start_epoch = 0\n",
        "        # LBL7\n",
        "        if restart_epoch is not None:\n",
        "          checkpt = torch.load(f'{checkpoint_dir}/{checkpoint_name}_{restart_epoch}.pt')\n",
        "          optimizer.load_state_dict(checkpt['optimizer_state_dict'])\n",
        "          self.model.load_state_dict(checkpt['model_state_dict'])\n",
        "          start_epoch = checkpt['epoch'] + 1\n",
        "          print(f'Checkpoint loaded. Previous loss={checkpt[\"loss\"]:.4f}, acc={checkpt[\"acc\"] * 100:.2f}%.' \\\n",
        "                f'Restarting from epoch {start_epoch}')\n",
        "          # Для того, чтобы не затереть изначальные чекпоинты, представленные к сдаче\n",
        "          checkpoint_dir += restart_name\n",
        "\n",
        "        if not os.path.isdir(checkpoint_dir):\n",
        "            os.makedirs(checkpoint_dir)\n",
        "\n",
        "        for epoch in tqdm(range(start_epoch, n_epochs), desc='Epoch'):\n",
        "            optimizer, train_loss, train_accuracy = self.train_step(train_loader, optimizer, loss_fn)\n",
        "            train_losses.append(train_loss)\n",
        "            train_accuracies.append(train_accuracy)\n",
        "\n",
        "            with torch.no_grad():\n",
        "                valid_loss, valid_accuracy = self.valid_step(valid_loader, loss_fn)\n",
        "            valid_losses.append(valid_loss)\n",
        "            valid_accuracies.append(valid_accuracy)\n",
        "\n",
        "            # LBL3\n",
        "            print(\n",
        "                f'Epoch: {epoch + 1} Train loss:{train_loss:.4f} Train accuracy:{train_accuracy * 100:.2f}% || '\\\n",
        "                f'Validation loss:{valid_loss:.4f} Validation accuracy:{valid_accuracy * 100:.2f}%'\n",
        "            )\n",
        "            # LBL4\n",
        "            torch.save({\n",
        "                'epoch': epoch,\n",
        "                'model_state_dict': self.model.state_dict(),\n",
        "                'optimizer_state_dict': optimizer.state_dict(),\n",
        "                'loss': valid_loss,\n",
        "                'acc': valid_accuracy\n",
        "            },\n",
        "                f'{checkpoint_dir}/{checkpoint_name}_{epoch}.pt'\n",
        "            )\n",
        "\n",
        "        # LBL5\n",
        "        if return_plot:\n",
        "            plt.ioff()\n",
        "            x = np.arange(n_epochs)\n",
        "            plt.plot(x, train_losses, label='train loss', color='darkblue', marker='o')\n",
        "            plt.plot(x, valid_losses, label='validation loss', color='darkgreen', linestyle='--', marker='x')\n",
        "            plt.plot(x, train_accuracies, label='train accuracy', color='orange', marker='o')\n",
        "            plt.plot(x, valid_accuracies, label='valid accuracy', color='red', linestyle='--', marker='x')\n",
        "            plt.xlabel('Эпоха')\n",
        "            plt.legend(loc='upper left')\n",
        "            plt.title('Процесс обучения')\n",
        "\n",
        "            return plt\n",
        "\n",
        "        return train_losses, valid_losses, train_accuracies, valid_accuracies\n",
        "\n",
        "    def test_on_dataset(self, dataset: Dataset, batch_size=32, limit=None):\n",
        "        test_data = self.prepare_dataset(dataset, subset='test')\n",
        "        test_loader = DataLoader(test_data, batch_size=batch_size, shuffle=False)\n",
        "\n",
        "        predictions = []\n",
        "        self.model.eval()\n",
        "        for X, y_true in test_loader:\n",
        "            X = X.to(self.device)\n",
        "            y_true = y_true.to(self.device)\n",
        "\n",
        "            with torch.no_grad():\n",
        "                y_hat = self.model(X)\n",
        "\n",
        "            pred_labels = torch.argmax(y_hat, 1)\n",
        "            predictions.extend(list(pred_labels.cpu()))\n",
        "\n",
        "        return predictions\n",
        "\n",
        "    def test_on_image(self, img: np.ndarray):\n",
        "        self.model.eval()\n",
        "\n",
        "        img = self.test_transform(torch.from_numpy(img).unsqueeze(0))\n",
        "        with torch.no_grad():\n",
        "            prediction = self.model(img)\n",
        "        return prediction\n"
      ]
    },
    {
      "cell_type": "markdown",
      "metadata": {
        "id": "ZMpTB6lMr00A"
      },
      "source": [
        "---\n",
        "### Классификация изображений\n",
        "\n",
        "Загружаем датасеты для обучения и тестирования."
      ]
    },
    {
      "cell_type": "code",
      "execution_count": 12,
      "metadata": {
        "id": "5cTOuZD01Up6",
        "colab": {
          "base_uri": "https://localhost:8080/",
          "height": 0
        },
        "outputId": "9850ac08-6dd4-429b-eedf-90b38efa8a1f"
      },
      "outputs": [
        {
          "output_type": "stream",
          "name": "stdout",
          "text": [
            "Done. Dataset train consists of 18000 images.\n"
          ]
        }
      ],
      "source": [
        "d_train = Dataset('train')"
      ]
    },
    {
      "cell_type": "code",
      "source": [
        "d_test = Dataset('test')"
      ],
      "metadata": {
        "colab": {
          "base_uri": "https://localhost:8080/",
          "height": 0
        },
        "id": "QBCpwm7kBe_r",
        "outputId": "8f5c3d5d-5289-461f-d591-d152fbf6e6a2"
      },
      "execution_count": 13,
      "outputs": [
        {
          "output_type": "stream",
          "name": "stdout",
          "text": [
            "Done. Dataset test consists of 4500 images.\n"
          ]
        }
      ]
    },
    {
      "cell_type": "code",
      "execution_count": 14,
      "metadata": {
        "id": "EF37jZNkNU9s"
      },
      "outputs": [],
      "source": [
        "optimizer = torch.optim.Adam\n",
        "opt_params = {\n",
        "    'lr': 1e-4,\n",
        "    'weight_decay': 1e-4\n",
        "}\n",
        "loss_fn = nn.CrossEntropyLoss"
      ]
    },
    {
      "cell_type": "code",
      "source": [
        "checkpoint_name = 'resnet18'"
      ],
      "metadata": {
        "id": "ehaYBAx97HVV"
      },
      "execution_count": 15,
      "outputs": []
    },
    {
      "cell_type": "code",
      "source": [
        "model = Model()"
      ],
      "metadata": {
        "id": "BSA_YcYMpwVP"
      },
      "execution_count": 16,
      "outputs": []
    },
    {
      "cell_type": "code",
      "execution_count": 17,
      "metadata": {
        "id": "3feeGeRANU9s",
        "colab": {
          "base_uri": "https://localhost:8080/",
          "height": 591,
          "referenced_widgets": [
            "1c674a16b8d74ef3ac66b6421d59d558",
            "2b718b45285449e7870c998a47bdb01a",
            "f8461027ad2d4957a572c238aec45bdd",
            "8c904810002a4e6ab8dcf0144f6f5dca",
            "e509fb99366c4470b9fac56b0a6d8e69",
            "153e4fedfbb144cfaaeac56d61b06d2d",
            "c97bfbb73677494f8d35c8a6b8748547",
            "acde171c6ecd463890c71d9f08de81f6",
            "661a27ea510a495997ee149729e9066a",
            "4f533e0397494ab38f40eb0c412b10da",
            "874944f5fb8e43bdbfb744b607ae2b55"
          ]
        },
        "outputId": "9f8bcd3e-c4fc-4d77-f8b0-9c6ab4168fc0"
      },
      "outputs": [
        {
          "output_type": "display_data",
          "data": {
            "text/plain": [
              "Epoch:   0%|          | 0/5 [00:00<?, ?it/s]"
            ],
            "application/vnd.jupyter.widget-view+json": {
              "version_major": 2,
              "version_minor": 0,
              "model_id": "1c674a16b8d74ef3ac66b6421d59d558"
            }
          },
          "metadata": {}
        },
        {
          "output_type": "stream",
          "name": "stdout",
          "text": [
            "Epoch: 1 Train loss:0.1970 Train accuracy:94.03% || Validation loss:0.0733 Validation accuracy:97.69%\n",
            "Epoch: 2 Train loss:0.0497 Train accuracy:98.44% || Validation loss:0.0476 Validation accuracy:98.36%\n",
            "Epoch: 3 Train loss:0.0351 Train accuracy:99.01% || Validation loss:0.0601 Validation accuracy:98.08%\n",
            "Epoch: 4 Train loss:0.0272 Train accuracy:99.15% || Validation loss:0.0722 Validation accuracy:98.03%\n",
            "Epoch: 5 Train loss:0.0269 Train accuracy:99.14% || Validation loss:0.0500 Validation accuracy:98.53%\n"
          ]
        },
        {
          "output_type": "display_data",
          "data": {
            "text/plain": [
              "<Figure size 640x480 with 1 Axes>"
            ],
            "image/png": "[encoded data removed]"
          },
          "metadata": {}
        }
      ],
      "source": [
        "if not EVALUATE_ONLY:\n",
        "    vis = model.train(d_train, Loss_fn=loss_fn, batch_size=32, n_epochs=5, Optimizer=optimizer,\n",
        "                      opt_params=opt_params, checkpoint_name=checkpoint_name, return_plot=True)\n",
        "    model.save('best')\n",
        "    vis.show()"
      ]
    },
    {
      "cell_type": "code",
      "source": [
        "if EVALUATE_ONLY:\n",
        "    model.load('best')"
      ],
      "metadata": {
        "id": "yv99EalVppXc",
        "colab": {
          "base_uri": "https://localhost:8080/",
          "height": 0
        },
        "outputId": "843408ef-44db-4838-ae3c-e8421099c272"
      },
      "execution_count": 17,
      "outputs": [
        {
          "output_type": "stream",
          "name": "stderr",
          "text": [
            "Downloading...\n",
            "From (original): https://drive.google.com/uc?id=12BE_ADyZesmnegFoAUMerMX2iVRTuxZQ\n",
            "From (redirected): https://drive.google.com/uc?id=12BE_ADyZesmnegFoAUMerMX2iVRTuxZQ&confirm=t&uuid=52589795-133c-4294-a1f4-d93c9752dbd2\n",
            "To: /content/best.pt\n",
            "100%|██████████| 44.8M/44.8M [00:00<00:00, 75.6MB/s]\n",
            "<ipython-input-11-309d4077d8f1>:67: FutureWarning: You are using `torch.load` with `weights_only=False` (the current default value), which uses the default pickle module implicitly. It is possible to construct malicious pickle data which will execute arbitrary code during unpickling (See https://github.com/pytorch/pytorch/blob/main/SECURITY.md#untrusted-models for more details). In a future release, the default value for `weights_only` will be flipped to `True`. This limits the functions that could be executed during unpickling. Arbitrary objects will no longer be allowed to be loaded via this mode unless they are explicitly allowlisted by the user via `torch.serialization.add_safe_globals`. We recommend you start setting `weights_only=True` for any use case where you don't have full control of the loaded file. Please open an issue on GitHub for any issues related to this experimental feature.\n",
            "  self.model.load_state_dict(torch.load(f'{name}.pt'))\n"
          ]
        }
      ]
    },
    {
      "cell_type": "markdown",
      "metadata": {
        "id": "mSwvHVVzVWZ5"
      },
      "source": [
        "Протестируем модель на полном наборе данных:"
      ]
    },
    {
      "cell_type": "code",
      "execution_count": 18,
      "metadata": {
        "id": "mjI_sbMi3TMY",
        "colab": {
          "base_uri": "https://localhost:8080/",
          "height": 0
        },
        "outputId": "de8d3584-c84f-42d5-9b7f-9b78676c6c68"
      },
      "outputs": [
        {
          "output_type": "stream",
          "name": "stdout",
          "text": [
            "metrics for test:\n",
            "\t accuracy 0.9847:\n",
            "\t balanced accuracy 0.9847:\n"
          ]
        }
      ],
      "source": [
        "# evaluating model on full test dataset (may take time)\n",
        "if TEST_ON_LARGE_DATASET:\n",
        "    pred_2 = model.test_on_dataset(d_test, batch_size=32)\n",
        "    Metrics.print_all(d_test.labels, pred_2, 'test')"
      ]
    },
    {
      "cell_type": "code",
      "source": [
        "# LBL6\n",
        "\n",
        "cm = confusion_matrix(d_test.labels, pred_2, labels=np.arange(len(TISSUE_CLASSES)))\n",
        "disp = ConfusionMatrixDisplay(confusion_matrix=cm, display_labels=TISSUE_CLASSES)\n",
        "disp.plot(cmap=plt.cm.Reds, xticks_rotation=45)\n",
        "plt.title(\"Confusion Matrix\")\n",
        "plt.show()"
      ],
      "metadata": {
        "id": "JLveP0SEszML",
        "colab": {
          "base_uri": "https://localhost:8080/",
          "height": 498
        },
        "outputId": "da9e93f2-9186-4170-8880-3def631cf479"
      },
      "execution_count": 19,
      "outputs": [
        {
          "output_type": "display_data",
          "data": {
            "text/plain": [
              "<Figure size 640x480 with 2 Axes>"
            ],
            "image/png": "[encoded data removed]"
          },
          "metadata": {}
        }
      ]
    },
    {
      "cell_type": "code",
      "source": [
        "precision = precision_score(d_test.labels, pred_2, average=None, labels=np.arange(len(TISSUE_CLASSES)))\n",
        "recall = recall_score(d_test.labels, pred_2, average=None, labels=np.arange(len(TISSUE_CLASSES)))\n",
        "\n",
        "print(\"Precision per class:\")\n",
        "for i, label in enumerate(TISSUE_CLASSES):\n",
        "    print(f\"{label}: {precision[i]:.2f}\")\n",
        "\n",
        "print(\"\\nRecall per class:\")\n",
        "for i, label in enumerate(TISSUE_CLASSES):\n",
        "    print(f\"{label}: {recall[i]:.2f}\")"
      ],
      "metadata": {
        "id": "OMO-cyeXxdo5",
        "colab": {
          "base_uri": "https://localhost:8080/",
          "height": 0
        },
        "outputId": "2801145a-2be8-41bd-c7b3-17f3f1b7d07f"
      },
      "execution_count": 20,
      "outputs": [
        {
          "output_type": "stream",
          "name": "stdout",
          "text": [
            "Precision per class:\n",
            "ADI: 1.00\n",
            "BACK: 1.00\n",
            "DEB: 0.99\n",
            "LYM: 1.00\n",
            "MUC: 0.99\n",
            "MUS: 0.96\n",
            "NORM: 0.99\n",
            "STR: 0.95\n",
            "TUM: 0.99\n",
            "\n",
            "Recall per class:\n",
            "ADI: 1.00\n",
            "BACK: 1.00\n",
            "DEB: 0.98\n",
            "LYM: 0.99\n",
            "MUC: 0.98\n",
            "MUS: 0.99\n",
            "NORM: 0.98\n",
            "STR: 0.95\n",
            "TUM: 0.99\n"
          ]
        }
      ]
    },
    {
      "cell_type": "code",
      "source": [
        "precision_macro = precision_score(d_test.labels, pred_2, average='macro')\n",
        "recall_macro = recall_score(d_test.labels, pred_2, average='macro')\n",
        "\n",
        "precision_micro = precision_score(d_test.labels, pred_2, average='micro')\n",
        "recall_micro = recall_score(d_test.labels, pred_2, average='micro')\n",
        "\n",
        "precision_weighted = precision_score(d_test.labels, pred_2, average='weighted')\n",
        "recall_weighted = recall_score(d_test.labels, pred_2, average='weighted')\n",
        "\n",
        "report = classification_report(d_test.labels, pred_2, target_names=TISSUE_CLASSES)\n",
        "\n",
        "print(\"Macro-Averaged Precision:\", precision_macro)\n",
        "print(\"Macro-Averaged Recall:\", recall_macro)\n",
        "print(\"Micro-Averaged Precision:\", precision_micro)\n",
        "print(\"Micro-Averaged Recall:\", recall_micro)\n",
        "print(\"Weighted Precision:\", precision_weighted)\n",
        "print(\"Weighted Recall:\", recall_weighted)\n",
        "print(\"\\nClassification Report:\\n\", report)"
      ],
      "metadata": {
        "id": "aatQ1op_x2RX",
        "colab": {
          "base_uri": "https://localhost:8080/",
          "height": 0
        },
        "outputId": "d156f95a-92a6-4a23-ced4-09cd5a3b15a6"
      },
      "execution_count": 21,
      "outputs": [
        {
          "output_type": "stream",
          "name": "stdout",
          "text": [
            "Macro-Averaged Precision: 0.9847937364356257\n",
            "Macro-Averaged Recall: 0.9846666666666667\n",
            "Micro-Averaged Precision: 0.9846666666666667\n",
            "Micro-Averaged Recall: 0.9846666666666667\n",
            "Weighted Precision: 0.9847937364356257\n",
            "Weighted Recall: 0.9846666666666667\n",
            "\n",
            "Classification Report:\n",
            "               precision    recall  f1-score   support\n",
            "\n",
            "         ADI       1.00      1.00      1.00       500\n",
            "        BACK       1.00      1.00      1.00       500\n",
            "         DEB       0.99      0.98      0.98       500\n",
            "         LYM       1.00      0.99      0.99       500\n",
            "         MUC       0.99      0.98      0.99       500\n",
            "         MUS       0.96      0.99      0.97       500\n",
            "        NORM       0.99      0.98      0.98       500\n",
            "         STR       0.95      0.95      0.95       500\n",
            "         TUM       0.99      0.99      0.99       500\n",
            "\n",
            "    accuracy                           0.98      4500\n",
            "   macro avg       0.98      0.98      0.98      4500\n",
            "weighted avg       0.98      0.98      0.98      4500\n",
            "\n"
          ]
        }
      ]
    },
    {
      "cell_type": "markdown",
      "source": [
        "___\n",
        "Обучение можно возобновить с некоторой эпохи (для этого предварительно необходимо запустить ячейки для инициализации модели и оптимизатора). !!! Запускать в режиме EVALUATE_ONLY=False, чекпоинты на Вашем диске !!!"
      ],
      "metadata": {
        "id": "XunELPWZ2t4n"
      }
    },
    {
      "cell_type": "code",
      "source": [
        "model.train(d_train, Loss_fn=loss_fn, batch_size=32, n_epochs=5, Optimizer=optimizer,\n",
        "            opt_params=opt_params, checkpoint_name=checkpoint_name, return_plot=False, restart_epoch=3, restart_name=\"new\")"
      ],
      "metadata": {
        "colab": {
          "base_uri": "https://localhost:8080/",
          "height": 156,
          "referenced_widgets": [
            "abad1b71602d4f558f52ebd3a4c94e44",
            "de98c1d386834e1dad62bbd31a563fb2",
            "89b337573faf4f2da50bd82506636966",
            "5a0685d6cb094452b743852418ccce56",
            "dc040af23ddd4cd29521696bb23fbc05",
            "30e8c1b2d6ed49e1b733736b1585698e",
            "61da64684850452093c8d5a073aeeb42",
            "872e4fafaf8947a9bf9d9125cc793ce9",
            "f53c478b54cf4ce99150a07c3af18be7",
            "39185bf207414b3c99f76bbc4ca55fe0",
            "4a7b856592974d9d807d476fef522ee9"
          ]
        },
        "id": "BhVfMvN92kxb",
        "outputId": "a5faa274-107e-4532-8506-19ef449c0a29"
      },
      "execution_count": 25,
      "outputs": [
        {
          "output_type": "stream",
          "name": "stderr",
          "text": [
            "<ipython-input-11-ff5eb31fc570>:197: FutureWarning: You are using `torch.load` with `weights_only=False` (the current default value), which uses the default pickle module implicitly. It is possible to construct malicious pickle data which will execute arbitrary code during unpickling (See https://github.com/pytorch/pytorch/blob/main/SECURITY.md#untrusted-models for more details). In a future release, the default value for `weights_only` will be flipped to `True`. This limits the functions that could be executed during unpickling. Arbitrary objects will no longer be allowed to be loaded via this mode unless they are explicitly allowlisted by the user via `torch.serialization.add_safe_globals`. We recommend you start setting `weights_only=True` for any use case where you don't have full control of the loaded file. Please open an issue on GitHub for any issues related to this experimental feature.\n",
            "  checkpt = torch.load(f'{checkpoint_dir}/{checkpoint_name}_{restart_epoch}.pt')\n"
          ]
        },
        {
          "output_type": "stream",
          "name": "stdout",
          "text": [
            "Checkpoint loaded. Previous loss=0.0722, acc=98.03%.Restarting from epoch 4\n"
          ]
        },
        {
          "output_type": "display_data",
          "data": {
            "text/plain": [
              "Epoch:   0%|          | 0/1 [00:00<?, ?it/s]"
            ],
            "application/vnd.jupyter.widget-view+json": {
              "version_major": 2,
              "version_minor": 0,
              "model_id": "abad1b71602d4f558f52ebd3a4c94e44"
            }
          },
          "metadata": {}
        },
        {
          "output_type": "stream",
          "name": "stdout",
          "text": [
            "Epoch: 5 Train loss:0.0215 Train accuracy:99.38% || Validation loss:0.0511 Validation accuracy:98.39%\n"
          ]
        },
        {
          "output_type": "execute_result",
          "data": {
            "text/plain": [
              "([0.02147160485166953], [0.05111714959687864], [0.99375], [0.9838888888888889])"
            ]
          },
          "metadata": {},
          "execution_count": 25
        }
      ]
    },
    {
      "cell_type": "markdown",
      "source": [
        "А также можно загрузить веса с некоторой итерации. !!! Запускать в режиме EVALUATE_ONLY=TRUE, чекпоинты в хранилище автора !!!"
      ],
      "metadata": {
        "id": "6VBDj3hfLBYX"
      }
    },
    {
      "cell_type": "code",
      "source": [
        "model.load_iteration('resnet18', 3)\n",
        "pred = model.test_on_dataset(d_test, batch_size=32)\n",
        "Metrics.print_all(d_test.labels, pred, 'test')"
      ],
      "metadata": {
        "colab": {
          "base_uri": "https://localhost:8080/",
          "height": 0
        },
        "id": "5vAmJ1s7LFMw",
        "outputId": "36fa9861-2ac1-45d4-d22a-81b0fd82c2fb"
      },
      "execution_count": 25,
      "outputs": [
        {
          "output_type": "stream",
          "name": "stderr",
          "text": [
            "Downloading...\n",
            "From (original): https://drive.google.com/uc?id=124JdefOavNvTwg12emIqLLYwWja6XCot\n",
            "From (redirected): https://drive.google.com/uc?id=124JdefOavNvTwg12emIqLLYwWja6XCot&confirm=t&uuid=0edae671-3583-447d-9203-10c1d4a3160c\n",
            "To: /content/resnet18.pt\n",
            "100%|██████████| 134M/134M [00:01<00:00, 88.3MB/s]\n",
            "<ipython-input-11-309d4077d8f1>:82: FutureWarning: You are using `torch.load` with `weights_only=False` (the current default value), which uses the default pickle module implicitly. It is possible to construct malicious pickle data which will execute arbitrary code during unpickling (See https://github.com/pytorch/pytorch/blob/main/SECURITY.md#untrusted-models for more details). In a future release, the default value for `weights_only` will be flipped to `True`. This limits the functions that could be executed during unpickling. Arbitrary objects will no longer be allowed to be loaded via this mode unless they are explicitly allowlisted by the user via `torch.serialization.add_safe_globals`. We recommend you start setting `weights_only=True` for any use case where you don't have full control of the loaded file. Please open an issue on GitHub for any issues related to this experimental feature.\n",
            "  checkpt = torch.load(f'{name}.pt')\n"
          ]
        },
        {
          "output_type": "stream",
          "name": "stdout",
          "text": [
            "Loaded model from epoch 3, val_acc=98.03%\n",
            "metrics for test:\n",
            "\t accuracy 0.9771:\n",
            "\t balanced accuracy 0.9771:\n"
          ]
        }
      ]
    },
    {
      "cell_type": "markdown",
      "metadata": {
        "id": "RzSKAvVI6uCW"
      },
      "source": [
        "### Тестирование модели на других наборах данных\n",
        "\n",
        "Ваша модель должна поддерживать тестирование на других наборах данных. Для удобства, Вам предоставляется набор данных test_tiny, который представляет собой малую часть (2% изображений) набора test. Ниже приведен фрагмент кода, который будет осуществлять тестирование для оценивания Вашей модели на дополнительных тестовых наборах данных.\n",
        "\n",
        "<font color=\"red\">\n",
        "Прежде чем отсылать задание на проверку, убедитесь в работоспособности фрагмента кода ниже.\n",
        "</font>"
      ]
    },
    {
      "cell_type": "code",
      "execution_count": 26,
      "metadata": {
        "id": "sdY3uTt87tqv",
        "colab": {
          "base_uri": "https://localhost:8080/",
          "height": 0
        },
        "outputId": "93db10b8-941b-4972-e0bb-d3dbab0ac4ee"
      },
      "outputs": [
        {
          "output_type": "stream",
          "name": "stderr",
          "text": [
            "Downloading...\n",
            "From (original): https://drive.google.com/uc?id=12BE_ADyZesmnegFoAUMerMX2iVRTuxZQ\n",
            "From (redirected): https://drive.google.com/uc?id=12BE_ADyZesmnegFoAUMerMX2iVRTuxZQ&confirm=t&uuid=0c80758b-f9f3-424c-bb74-fd094185ed82\n",
            "To: /content/best.pt\n",
            "100%|██████████| 44.8M/44.8M [00:00<00:00, 77.3MB/s]\n",
            "<ipython-input-11-309d4077d8f1>:67: FutureWarning: You are using `torch.load` with `weights_only=False` (the current default value), which uses the default pickle module implicitly. It is possible to construct malicious pickle data which will execute arbitrary code during unpickling (See https://github.com/pytorch/pytorch/blob/main/SECURITY.md#untrusted-models for more details). In a future release, the default value for `weights_only` will be flipped to `True`. This limits the functions that could be executed during unpickling. Arbitrary objects will no longer be allowed to be loaded via this mode unless they are explicitly allowlisted by the user via `torch.serialization.add_safe_globals`. We recommend you start setting `weights_only=True` for any use case where you don't have full control of the loaded file. Please open an issue on GitHub for any issues related to this experimental feature.\n",
            "  self.model.load_state_dict(torch.load(f'{name}.pt'))\n"
          ]
        },
        {
          "output_type": "stream",
          "name": "stdout",
          "text": [
            "Done. Dataset test_tiny consists of 90 images.\n",
            "metrics for test-tiny:\n",
            "\t accuracy 0.9556:\n",
            "\t balanced accuracy 0.9556:\n"
          ]
        }
      ],
      "source": [
        "final_model = Model()\n",
        "final_model.load('best')\n",
        "d_test_tiny = Dataset('test_tiny')\n",
        "pred = model.test_on_dataset(d_test_tiny)\n",
        "Metrics.print_all(d_test_tiny.labels, pred, 'test-tiny')"
      ]
    },
    {
      "cell_type": "markdown",
      "metadata": {
        "id": "lPvyj4gscU10"
      },
      "source": [
        "Отмонтировать Google Drive."
      ]
    },
    {
      "cell_type": "code",
      "execution_count": null,
      "metadata": {
        "id": "NfX35zNSvFWn"
      },
      "outputs": [],
      "source": [
        "drive.flush_and_unmount()"
      ]
    }
  ],
  "metadata": {
    "accelerator": "GPU",
    "colab": {
      "provenance": []
    },
    "gpuClass": "standard",
    "kernelspec": {
      "display_name": "Python 3",
      "language": "python",
      "name": "python3"
    },
    "language_info": {
      "codemirror_mode": {
        "name": "ipython",
        "version": 3
      },
      "file_extension": ".py",
      "mimetype": "text/x-python",
      "name": "python",
      "nbconvert_exporter": "python",
      "pygments_lexer": "ipython3",
      "version": "3.10.12"
    },
    "widgets": {
      "application/vnd.jupyter.widget-state+json": {
        "1c674a16b8d74ef3ac66b6421d59d558": {
          "model_module": "@jupyter-widgets/controls",
          "model_name": "HBoxModel",
          "model_module_version": "1.5.0",
          "state": {
            "_dom_classes": [],
            "_model_module": "@jupyter-widgets/controls",
            "_model_module_version": "1.5.0",
            "_model_name": "HBoxModel",
            "_view_count": null,
            "_view_module": "@jupyter-widgets/controls",
            "_view_module_version": "1.5.0",
            "_view_name": "HBoxView",
            "box_style": "",
            "children": [
              "IPY_MODEL_2b718b45285449e7870c998a47bdb01a",
              "IPY_MODEL_f8461027ad2d4957a572c238aec45bdd",
              "IPY_MODEL_8c904810002a4e6ab8dcf0144f6f5dca"
            ],
            "layout": "IPY_MODEL_e509fb99366c4470b9fac56b0a6d8e69"
          }
        },
        "2b718b45285449e7870c998a47bdb01a": {
          "model_module": "@jupyter-widgets/controls",
          "model_name": "HTMLModel",
          "model_module_version": "1.5.0",
          "state": {
            "_dom_classes": [],
            "_model_module": "@jupyter-widgets/controls",
            "_model_module_version": "1.5.0",
            "_model_name": "HTMLModel",
            "_view_count": null,
            "_view_module": "@jupyter-widgets/controls",
            "_view_module_version": "1.5.0",
            "_view_name": "HTMLView",
            "description": "",
            "description_tooltip": null,
            "layout": "IPY_MODEL_153e4fedfbb144cfaaeac56d61b06d2d",
            "placeholder": "​",
            "style": "IPY_MODEL_c97bfbb73677494f8d35c8a6b8748547",
            "value": "Epoch: 100%"
          }
        },
        "f8461027ad2d4957a572c238aec45bdd": {
          "model_module": "@jupyter-widgets/controls",
          "model_name": "FloatProgressModel",
          "model_module_version": "1.5.0",
          "state": {
            "_dom_classes": [],
            "_model_module": "@jupyter-widgets/controls",
            "_model_module_version": "1.5.0",
            "_model_name": "FloatProgressModel",
            "_view_count": null,
            "_view_module": "@jupyter-widgets/controls",
            "_view_module_version": "1.5.0",
            "_view_name": "ProgressView",
            "bar_style": "success",
            "description": "",
            "description_tooltip": null,
            "layout": "IPY_MODEL_acde171c6ecd463890c71d9f08de81f6",
            "max": 5,
            "min": 0,
            "orientation": "horizontal",
            "style": "IPY_MODEL_661a27ea510a495997ee149729e9066a",
            "value": 5
          }
        },
        "8c904810002a4e6ab8dcf0144f6f5dca": {
          "model_module": "@jupyter-widgets/controls",
          "model_name": "HTMLModel",
          "model_module_version": "1.5.0",
          "state": {
            "_dom_classes": [],
            "_model_module": "@jupyter-widgets/controls",
            "_model_module_version": "1.5.0",
            "_model_name": "HTMLModel",
            "_view_count": null,
            "_view_module": "@jupyter-widgets/controls",
            "_view_module_version": "1.5.0",
            "_view_name": "HTMLView",
            "description": "",
            "description_tooltip": null,
            "layout": "IPY_MODEL_4f533e0397494ab38f40eb0c412b10da",
            "placeholder": "​",
            "style": "IPY_MODEL_874944f5fb8e43bdbfb744b607ae2b55",
            "value": " 5/5 [04:18&lt;00:00, 52.15s/it]"
          }
        },
        "e509fb99366c4470b9fac56b0a6d8e69": {
          "model_module": "@jupyter-widgets/base",
          "model_name": "LayoutModel",
          "model_module_version": "1.2.0",
          "state": {
            "_model_module": "@jupyter-widgets/base",
            "_model_module_version": "1.2.0",
            "_model_name": "LayoutModel",
            "_view_count": null,
            "_view_module": "@jupyter-widgets/base",
            "_view_module_version": "1.2.0",
            "_view_name": "LayoutView",
            "align_content": null,
            "align_items": null,
            "align_self": null,
            "border": null,
            "bottom": null,
            "display": null,
            "flex": null,
            "flex_flow": null,
            "grid_area": null,
            "grid_auto_columns": null,
            "grid_auto_flow": null,
            "grid_auto_rows": null,
            "grid_column": null,
            "grid_gap": null,
            "grid_row": null,
            "grid_template_areas": null,
            "grid_template_columns": null,
            "grid_template_rows": null,
            "height": null,
            "justify_content": null,
            "justify_items": null,
            "left": null,
            "margin": null,
            "max_height": null,
            "max_width": null,
            "min_height": null,
            "min_width": null,
            "object_fit": null,
            "object_position": null,
            "order": null,
            "overflow": null,
            "overflow_x": null,
            "overflow_y": null,
            "padding": null,
            "right": null,
            "top": null,
            "visibility": null,
            "width": null
          }
        },
        "153e4fedfbb144cfaaeac56d61b06d2d": {
          "model_module": "@jupyter-widgets/base",
          "model_name": "LayoutModel",
          "model_module_version": "1.2.0",
          "state": {
            "_model_module": "@jupyter-widgets/base",
            "_model_module_version": "1.2.0",
            "_model_name": "LayoutModel",
            "_view_count": null,
            "_view_module": "@jupyter-widgets/base",
            "_view_module_version": "1.2.0",
            "_view_name": "LayoutView",
            "align_content": null,
            "align_items": null,
            "align_self": null,
            "border": null,
            "bottom": null,
            "display": null,
            "flex": null,
            "flex_flow": null,
            "grid_area": null,
            "grid_auto_columns": null,
            "grid_auto_flow": null,
            "grid_auto_rows": null,
            "grid_column": null,
            "grid_gap": null,
            "grid_row": null,
            "grid_template_areas": null,
            "grid_template_columns": null,
            "grid_template_rows": null,
            "height": null,
            "justify_content": null,
            "justify_items": null,
            "left": null,
            "margin": null,
            "max_height": null,
            "max_width": null,
            "min_height": null,
            "min_width": null,
            "object_fit": null,
            "object_position": null,
            "order": null,
            "overflow": null,
            "overflow_x": null,
            "overflow_y": null,
            "padding": null,
            "right": null,
            "top": null,
            "visibility": null,
            "width": null
          }
        },
        "c97bfbb73677494f8d35c8a6b8748547": {
          "model_module": "@jupyter-widgets/controls",
          "model_name": "DescriptionStyleModel",
          "model_module_version": "1.5.0",
          "state": {
            "_model_module": "@jupyter-widgets/controls",
            "_model_module_version": "1.5.0",
            "_model_name": "DescriptionStyleModel",
            "_view_count": null,
            "_view_module": "@jupyter-widgets/base",
            "_view_module_version": "1.2.0",
            "_view_name": "StyleView",
            "description_width": ""
          }
        },
        "acde171c6ecd463890c71d9f08de81f6": {
          "model_module": "@jupyter-widgets/base",
          "model_name": "LayoutModel",
          "model_module_version": "1.2.0",
          "state": {
            "_model_module": "@jupyter-widgets/base",
            "_model_module_version": "1.2.0",
            "_model_name": "LayoutModel",
            "_view_count": null,
            "_view_module": "@jupyter-widgets/base",
            "_view_module_version": "1.2.0",
            "_view_name": "LayoutView",
            "align_content": null,
            "align_items": null,
            "align_self": null,
            "border": null,
            "bottom": null,
            "display": null,
            "flex": null,
            "flex_flow": null,
            "grid_area": null,
            "grid_auto_columns": null,
            "grid_auto_flow": null,
            "grid_auto_rows": null,
            "grid_column": null,
            "grid_gap": null,
            "grid_row": null,
            "grid_template_areas": null,
            "grid_template_columns": null,
            "grid_template_rows": null,
            "height": null,
            "justify_content": null,
            "justify_items": null,
            "left": null,
            "margin": null,
            "max_height": null,
            "max_width": null,
            "min_height": null,
            "min_width": null,
            "object_fit": null,
            "object_position": null,
            "order": null,
            "overflow": null,
            "overflow_x": null,
            "overflow_y": null,
            "padding": null,
            "right": null,
            "top": null,
            "visibility": null,
            "width": null
          }
        },
        "661a27ea510a495997ee149729e9066a": {
          "model_module": "@jupyter-widgets/controls",
          "model_name": "ProgressStyleModel",
          "model_module_version": "1.5.0",
          "state": {
            "_model_module": "@jupyter-widgets/controls",
            "_model_module_version": "1.5.0",
            "_model_name": "ProgressStyleModel",
            "_view_count": null,
            "_view_module": "@jupyter-widgets/base",
            "_view_module_version": "1.2.0",
            "_view_name": "StyleView",
            "bar_color": null,
            "description_width": ""
          }
        },
        "4f533e0397494ab38f40eb0c412b10da": {
          "model_module": "@jupyter-widgets/base",
          "model_name": "LayoutModel",
          "model_module_version": "1.2.0",
          "state": {
            "_model_module": "@jupyter-widgets/base",
            "_model_module_version": "1.2.0",
            "_model_name": "LayoutModel",
            "_view_count": null,
            "_view_module": "@jupyter-widgets/base",
            "_view_module_version": "1.2.0",
            "_view_name": "LayoutView",
            "align_content": null,
            "align_items": null,
            "align_self": null,
            "border": null,
            "bottom": null,
            "display": null,
            "flex": null,
            "flex_flow": null,
            "grid_area": null,
            "grid_auto_columns": null,
            "grid_auto_flow": null,
            "grid_auto_rows": null,
            "grid_column": null,
            "grid_gap": null,
            "grid_row": null,
            "grid_template_areas": null,
            "grid_template_columns": null,
            "grid_template_rows": null,
            "height": null,
            "justify_content": null,
            "justify_items": null,
            "left": null,
            "margin": null,
            "max_height": null,
            "max_width": null,
            "min_height": null,
            "min_width": null,
            "object_fit": null,
            "object_position": null,
            "order": null,
            "overflow": null,
            "overflow_x": null,
            "overflow_y": null,
            "padding": null,
            "right": null,
            "top": null,
            "visibility": null,
            "width": null
          }
        },
        "874944f5fb8e43bdbfb744b607ae2b55": {
          "model_module": "@jupyter-widgets/controls",
          "model_name": "DescriptionStyleModel",
          "model_module_version": "1.5.0",
          "state": {
            "_model_module": "@jupyter-widgets/controls",
            "_model_module_version": "1.5.0",
            "_model_name": "DescriptionStyleModel",
            "_view_count": null,
            "_view_module": "@jupyter-widgets/base",
            "_view_module_version": "1.2.0",
            "_view_name": "StyleView",
            "description_width": ""
          }
        },
        "abad1b71602d4f558f52ebd3a4c94e44": {
          "model_module": "@jupyter-widgets/controls",
          "model_name": "HBoxModel",
          "model_module_version": "1.5.0",
          "state": {
            "_dom_classes": [],
            "_model_module": "@jupyter-widgets/controls",
            "_model_module_version": "1.5.0",
            "_model_name": "HBoxModel",
            "_view_count": null,
            "_view_module": "@jupyter-widgets/controls",
            "_view_module_version": "1.5.0",
            "_view_name": "HBoxView",
            "box_style": "",
            "children": [
              "IPY_MODEL_de98c1d386834e1dad62bbd31a563fb2",
              "IPY_MODEL_89b337573faf4f2da50bd82506636966",
              "IPY_MODEL_5a0685d6cb094452b743852418ccce56"
            ],
            "layout": "IPY_MODEL_dc040af23ddd4cd29521696bb23fbc05"
          }
        },
        "de98c1d386834e1dad62bbd31a563fb2": {
          "model_module": "@jupyter-widgets/controls",
          "model_name": "HTMLModel",
          "model_module_version": "1.5.0",
          "state": {
            "_dom_classes": [],
            "_model_module": "@jupyter-widgets/controls",
            "_model_module_version": "1.5.0",
            "_model_name": "HTMLModel",
            "_view_count": null,
            "_view_module": "@jupyter-widgets/controls",
            "_view_module_version": "1.5.0",
            "_view_name": "HTMLView",
            "description": "",
            "description_tooltip": null,
            "layout": "IPY_MODEL_30e8c1b2d6ed49e1b733736b1585698e",
            "placeholder": "​",
            "style": "IPY_MODEL_61da64684850452093c8d5a073aeeb42",
            "value": "Epoch: 100%"
          }
        },
        "89b337573faf4f2da50bd82506636966": {
          "model_module": "@jupyter-widgets/controls",
          "model_name": "FloatProgressModel",
          "model_module_version": "1.5.0",
          "state": {
            "_dom_classes": [],
            "_model_module": "@jupyter-widgets/controls",
            "_model_module_version": "1.5.0",
            "_model_name": "FloatProgressModel",
            "_view_count": null,
            "_view_module": "@jupyter-widgets/controls",
            "_view_module_version": "1.5.0",
            "_view_name": "ProgressView",
            "bar_style": "success",
            "description": "",
            "description_tooltip": null,
            "layout": "IPY_MODEL_872e4fafaf8947a9bf9d9125cc793ce9",
            "max": 1,
            "min": 0,
            "orientation": "horizontal",
            "style": "IPY_MODEL_f53c478b54cf4ce99150a07c3af18be7",
            "value": 1
          }
        },
        "5a0685d6cb094452b743852418ccce56": {
          "model_module": "@jupyter-widgets/controls",
          "model_name": "HTMLModel",
          "model_module_version": "1.5.0",
          "state": {
            "_dom_classes": [],
            "_model_module": "@jupyter-widgets/controls",
            "_model_module_version": "1.5.0",
            "_model_name": "HTMLModel",
            "_view_count": null,
            "_view_module": "@jupyter-widgets/controls",
            "_view_module_version": "1.5.0",
            "_view_name": "HTMLView",
            "description": "",
            "description_tooltip": null,
            "layout": "IPY_MODEL_39185bf207414b3c99f76bbc4ca55fe0",
            "placeholder": "​",
            "style": "IPY_MODEL_4a7b856592974d9d807d476fef522ee9",
            "value": " 1/1 [00:57&lt;00:00, 57.36s/it]"
          }
        },
        "dc040af23ddd4cd29521696bb23fbc05": {
          "model_module": "@jupyter-widgets/base",
          "model_name": "LayoutModel",
          "model_module_version": "1.2.0",
          "state": {
            "_model_module": "@jupyter-widgets/base",
            "_model_module_version": "1.2.0",
            "_model_name": "LayoutModel",
            "_view_count": null,
            "_view_module": "@jupyter-widgets/base",
            "_view_module_version": "1.2.0",
            "_view_name": "LayoutView",
            "align_content": null,
            "align_items": null,
            "align_self": null,
            "border": null,
            "bottom": null,
            "display": null,
            "flex": null,
            "flex_flow": null,
            "grid_area": null,
            "grid_auto_columns": null,
            "grid_auto_flow": null,
            "grid_auto_rows": null,
            "grid_column": null,
            "grid_gap": null,
            "grid_row": null,
            "grid_template_areas": null,
            "grid_template_columns": null,
            "grid_template_rows": null,
            "height": null,
            "justify_content": null,
            "justify_items": null,
            "left": null,
            "margin": null,
            "max_height": null,
            "max_width": null,
            "min_height": null,
            "min_width": null,
            "object_fit": null,
            "object_position": null,
            "order": null,
            "overflow": null,
            "overflow_x": null,
            "overflow_y": null,
            "padding": null,
            "right": null,
            "top": null,
            "visibility": null,
            "width": null
          }
        },
        "30e8c1b2d6ed49e1b733736b1585698e": {
          "model_module": "@jupyter-widgets/base",
          "model_name": "LayoutModel",
          "model_module_version": "1.2.0",
          "state": {
            "_model_module": "@jupyter-widgets/base",
            "_model_module_version": "1.2.0",
            "_model_name": "LayoutModel",
            "_view_count": null,
            "_view_module": "@jupyter-widgets/base",
            "_view_module_version": "1.2.0",
            "_view_name": "LayoutView",
            "align_content": null,
            "align_items": null,
            "align_self": null,
            "border": null,
            "bottom": null,
            "display": null,
            "flex": null,
            "flex_flow": null,
            "grid_area": null,
            "grid_auto_columns": null,
            "grid_auto_flow": null,
            "grid_auto_rows": null,
            "grid_column": null,
            "grid_gap": null,
            "grid_row": null,
            "grid_template_areas": null,
            "grid_template_columns": null,
            "grid_template_rows": null,
            "height": null,
            "justify_content": null,
            "justify_items": null,
            "left": null,
            "margin": null,
            "max_height": null,
            "max_width": null,
            "min_height": null,
            "min_width": null,
            "object_fit": null,
            "object_position": null,
            "order": null,
            "overflow": null,
            "overflow_x": null,
            "overflow_y": null,
            "padding": null,
            "right": null,
            "top": null,
            "visibility": null,
            "width": null
          }
        },
        "61da64684850452093c8d5a073aeeb42": {
          "model_module": "@jupyter-widgets/controls",
          "model_name": "DescriptionStyleModel",
          "model_module_version": "1.5.0",
          "state": {
            "_model_module": "@jupyter-widgets/controls",
            "_model_module_version": "1.5.0",
            "_model_name": "DescriptionStyleModel",
            "_view_count": null,
            "_view_module": "@jupyter-widgets/base",
            "_view_module_version": "1.2.0",
            "_view_name": "StyleView",
            "description_width": ""
          }
        },
        "872e4fafaf8947a9bf9d9125cc793ce9": {
          "model_module": "@jupyter-widgets/base",
          "model_name": "LayoutModel",
          "model_module_version": "1.2.0",
          "state": {
            "_model_module": "@jupyter-widgets/base",
            "_model_module_version": "1.2.0",
            "_model_name": "LayoutModel",
            "_view_count": null,
            "_view_module": "@jupyter-widgets/base",
            "_view_module_version": "1.2.0",
            "_view_name": "LayoutView",
            "align_content": null,
            "align_items": null,
            "align_self": null,
            "border": null,
            "bottom": null,
            "display": null,
            "flex": null,
            "flex_flow": null,
            "grid_area": null,
            "grid_auto_columns": null,
            "grid_auto_flow": null,
            "grid_auto_rows": null,
            "grid_column": null,
            "grid_gap": null,
            "grid_row": null,
            "grid_template_areas": null,
            "grid_template_columns": null,
            "grid_template_rows": null,
            "height": null,
            "justify_content": null,
            "justify_items": null,
            "left": null,
            "margin": null,
            "max_height": null,
            "max_width": null,
            "min_height": null,
            "min_width": null,
            "object_fit": null,
            "object_position": null,
            "order": null,
            "overflow": null,
            "overflow_x": null,
            "overflow_y": null,
            "padding": null,
            "right": null,
            "top": null,
            "visibility": null,
            "width": null
          }
        },
        "f53c478b54cf4ce99150a07c3af18be7": {
          "model_module": "@jupyter-widgets/controls",
          "model_name": "ProgressStyleModel",
          "model_module_version": "1.5.0",
          "state": {
            "_model_module": "@jupyter-widgets/controls",
            "_model_module_version": "1.5.0",
            "_model_name": "ProgressStyleModel",
            "_view_count": null,
            "_view_module": "@jupyter-widgets/base",
            "_view_module_version": "1.2.0",
            "_view_name": "StyleView",
            "bar_color": null,
            "description_width": ""
          }
        },
        "39185bf207414b3c99f76bbc4ca55fe0": {
          "model_module": "@jupyter-widgets/base",
          "model_name": "LayoutModel",
          "model_module_version": "1.2.0",
          "state": {
            "_model_module": "@jupyter-widgets/base",
            "_model_module_version": "1.2.0",
            "_model_name": "LayoutModel",
            "_view_count": null,
            "_view_module": "@jupyter-widgets/base",
            "_view_module_version": "1.2.0",
            "_view_name": "LayoutView",
            "align_content": null,
            "align_items": null,
            "align_self": null,
            "border": null,
            "bottom": null,
            "display": null,
            "flex": null,
            "flex_flow": null,
            "grid_area": null,
            "grid_auto_columns": null,
            "grid_auto_flow": null,
            "grid_auto_rows": null,
            "grid_column": null,
            "grid_gap": null,
            "grid_row": null,
            "grid_template_areas": null,
            "grid_template_columns": null,
            "grid_template_rows": null,
            "height": null,
            "justify_content": null,
            "justify_items": null,
            "left": null,
            "margin": null,
            "max_height": null,
            "max_width": null,
            "min_height": null,
            "min_width": null,
            "object_fit": null,
            "object_position": null,
            "order": null,
            "overflow": null,
            "overflow_x": null,
            "overflow_y": null,
            "padding": null,
            "right": null,
            "top": null,
            "visibility": null,
            "width": null
          }
        },
        "4a7b856592974d9d807d476fef522ee9": {
          "model_module": "@jupyter-widgets/controls",
          "model_name": "DescriptionStyleModel",
          "model_module_version": "1.5.0",
          "state": {
            "_model_module": "@jupyter-widgets/controls",
            "_model_module_version": "1.5.0",
            "_model_name": "DescriptionStyleModel",
            "_view_count": null,
            "_view_module": "@jupyter-widgets/base",
            "_view_module_version": "1.2.0",
            "_view_name": "StyleView",
            "description_width": ""
          }
        }
      }
    }
  },
  "nbformat": 4,
  "nbformat_minor": 0
}